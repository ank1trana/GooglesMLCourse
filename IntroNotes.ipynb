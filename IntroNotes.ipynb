{
 "cells": [
  {
   "cell_type": "markdown",
   "metadata": {},
   "source": [
    "What is a \"model\" in machine learning?\n",
    "\n",
    "\n",
    "A model is a mathematical relationship derived from data that an ML system uses to make predictions"
   ]
  },
  {
   "cell_type": "markdown",
   "metadata": {},
   "source": [
    "Types of ML Systems\n",
    "\n",
    "ML systems fall into one or more of the following categories based on how they learn to make predictions or generate content:\n",
    "\n",
    "-Supervised learning\n",
    "\n",
    "-Unsupervised learning\n",
    "\n",
    "-Reinforcement learning\n",
    "\n",
    "-Generative AI"
   ]
  },
  {
   "cell_type": "code",
   "execution_count": null,
   "metadata": {},
   "outputs": [],
   "source": []
  }
 ],
 "metadata": {
  "kernelspec": {
   "display_name": "Python 3",
   "language": "python",
   "name": "python3"
  },
  "language_info": {
   "name": "python",
   "version": "3.13.3"
  }
 },
 "nbformat": 4,
 "nbformat_minor": 2
}
